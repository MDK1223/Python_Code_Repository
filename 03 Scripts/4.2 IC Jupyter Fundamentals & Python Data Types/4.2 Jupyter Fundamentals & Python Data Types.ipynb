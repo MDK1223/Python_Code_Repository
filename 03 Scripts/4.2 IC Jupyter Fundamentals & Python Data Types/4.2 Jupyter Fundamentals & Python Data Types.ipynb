{
 "cells": [
  {
   "cell_type": "markdown",
   "id": "48371b77",
   "metadata": {},
   "source": [
    "# 01. Importing Libraries"
   ]
  },
  {
   "cell_type": "code",
   "execution_count": 1,
   "id": "1289e1b4",
   "metadata": {},
   "outputs": [],
   "source": [
    "# Import libraries\n",
    "import pandas as pd\n",
    "import numpy as np\n",
    "import os"
   ]
  },
  {
   "cell_type": "markdown",
   "id": "569c362e",
   "metadata": {},
   "source": [
    "# 02. Data Types"
   ]
  },
  {
   "cell_type": "code",
   "execution_count": 2,
   "id": "06861942",
   "metadata": {},
   "outputs": [],
   "source": [
    "x = 2"
   ]
  },
  {
   "cell_type": "code",
   "execution_count": 3,
   "id": "82640613",
   "metadata": {},
   "outputs": [
    {
     "data": {
      "text/plain": [
       "2"
      ]
     },
     "execution_count": 3,
     "metadata": {},
     "output_type": "execute_result"
    }
   ],
   "source": [
    "x"
   ]
  },
  {
   "cell_type": "code",
   "execution_count": 4,
   "id": "461fdd31",
   "metadata": {},
   "outputs": [
    {
     "name": "stdout",
     "output_type": "stream",
     "text": [
      "2\n"
     ]
    }
   ],
   "source": [
    "print(x)"
   ]
  },
  {
   "cell_type": "code",
   "execution_count": 5,
   "id": "af0cbdf4",
   "metadata": {},
   "outputs": [
    {
     "data": {
      "text/plain": [
       "int"
      ]
     },
     "execution_count": 5,
     "metadata": {},
     "output_type": "execute_result"
    }
   ],
   "source": [
    "type(x)"
   ]
  },
  {
   "cell_type": "code",
   "execution_count": 6,
   "id": "a49e260c",
   "metadata": {},
   "outputs": [],
   "source": [
    "y = 5.678"
   ]
  },
  {
   "cell_type": "code",
   "execution_count": 7,
   "id": "ffe07053",
   "metadata": {},
   "outputs": [
    {
     "data": {
      "text/plain": [
       "float"
      ]
     },
     "execution_count": 7,
     "metadata": {},
     "output_type": "execute_result"
    }
   ],
   "source": [
    "type(y)"
   ]
  },
  {
   "cell_type": "code",
   "execution_count": 9,
   "id": "7d1aa984",
   "metadata": {},
   "outputs": [],
   "source": [
    "z = 'Brazil'"
   ]
  },
  {
   "cell_type": "code",
   "execution_count": 10,
   "id": "cb4d6466",
   "metadata": {},
   "outputs": [
    {
     "data": {
      "text/plain": [
       "str"
      ]
     },
     "execution_count": 10,
     "metadata": {},
     "output_type": "execute_result"
    }
   ],
   "source": [
    "type(z)"
   ]
  },
  {
   "cell_type": "code",
   "execution_count": 12,
   "id": "87f593bb",
   "metadata": {},
   "outputs": [
    {
     "data": {
      "text/plain": [
       "str"
      ]
     },
     "execution_count": 12,
     "metadata": {},
     "output_type": "execute_result"
    }
   ],
   "source": [
    "type('mania')"
   ]
  },
  {
   "cell_type": "code",
   "execution_count": 14,
   "id": "034b22dc",
   "metadata": {},
   "outputs": [
    {
     "data": {
      "text/plain": [
       "bool"
      ]
     },
     "execution_count": 14,
     "metadata": {},
     "output_type": "execute_result"
    }
   ],
   "source": [
    "type(True)"
   ]
  },
  {
   "cell_type": "code",
   "execution_count": 15,
   "id": "4d3bbf98",
   "metadata": {},
   "outputs": [
    {
     "data": {
      "text/plain": [
       "bool"
      ]
     },
     "execution_count": 15,
     "metadata": {},
     "output_type": "execute_result"
    }
   ],
   "source": [
    "type(False)"
   ]
  },
  {
   "cell_type": "code",
   "execution_count": 16,
   "id": "fb06ec49",
   "metadata": {},
   "outputs": [
    {
     "data": {
      "text/plain": [
       "6"
      ]
     },
     "execution_count": 16,
     "metadata": {},
     "output_type": "execute_result"
    }
   ],
   "source": [
    "x + 4"
   ]
  },
  {
   "cell_type": "code",
   "execution_count": 17,
   "id": "a8a9384b",
   "metadata": {},
   "outputs": [
    {
     "data": {
      "text/plain": [
       "7.678"
      ]
     },
     "execution_count": 17,
     "metadata": {},
     "output_type": "execute_result"
    }
   ],
   "source": [
    "x + y"
   ]
  },
  {
   "cell_type": "code",
   "execution_count": 18,
   "id": "9affcf3d",
   "metadata": {},
   "outputs": [],
   "source": [
    "x = (x + 4)"
   ]
  },
  {
   "cell_type": "code",
   "execution_count": 20,
   "id": "2daa9248",
   "metadata": {},
   "outputs": [
    {
     "name": "stdout",
     "output_type": "stream",
     "text": [
      "6\n"
     ]
    }
   ],
   "source": [
    "print(x)"
   ]
  },
  {
   "cell_type": "code",
   "execution_count": 30,
   "id": "6befee2c",
   "metadata": {},
   "outputs": [],
   "source": [
    "a = 'Hello, '"
   ]
  },
  {
   "cell_type": "code",
   "execution_count": 31,
   "id": "1ed5dee7",
   "metadata": {},
   "outputs": [],
   "source": [
    "b =  'Marley'"
   ]
  },
  {
   "cell_type": "code",
   "execution_count": 32,
   "id": "d34cb0fe",
   "metadata": {},
   "outputs": [
    {
     "data": {
      "text/plain": [
       "'Hello, Marley'"
      ]
     },
     "execution_count": 32,
     "metadata": {},
     "output_type": "execute_result"
    }
   ],
   "source": [
    "a + b"
   ]
  },
  {
   "cell_type": "code",
   "execution_count": 34,
   "id": "242a2cfd",
   "metadata": {},
   "outputs": [
    {
     "data": {
      "text/plain": [
       "bool"
      ]
     },
     "execution_count": 34,
     "metadata": {},
     "output_type": "execute_result"
    }
   ],
   "source": [
    "type (x == y)"
   ]
  },
  {
   "cell_type": "markdown",
   "id": "72c2088e",
   "metadata": {},
   "source": [
    "# 07. Code three different ways of reaching 100"
   ]
  },
  {
   "cell_type": "code",
   "execution_count": 37,
   "id": "ad38eb13",
   "metadata": {},
   "outputs": [],
   "source": [
    "c = 75"
   ]
  },
  {
   "cell_type": "code",
   "execution_count": 38,
   "id": "fcfd4ba8",
   "metadata": {},
   "outputs": [],
   "source": [
    "d = 25"
   ]
  },
  {
   "cell_type": "code",
   "execution_count": 41,
   "id": "03b5ebb6",
   "metadata": {},
   "outputs": [
    {
     "data": {
      "text/plain": [
       "100"
      ]
     },
     "execution_count": 41,
     "metadata": {},
     "output_type": "execute_result"
    }
   ],
   "source": [
    "c + d"
   ]
  },
  {
   "cell_type": "code",
   "execution_count": 42,
   "id": "af3627f3",
   "metadata": {},
   "outputs": [],
   "source": [
    "e = 50 "
   ]
  },
  {
   "cell_type": "code",
   "execution_count": 43,
   "id": "4c24200d",
   "metadata": {},
   "outputs": [
    {
     "data": {
      "text/plain": [
       "100"
      ]
     },
     "execution_count": 43,
     "metadata": {},
     "output_type": "execute_result"
    }
   ],
   "source": [
    "e + e"
   ]
  },
  {
   "cell_type": "code",
   "execution_count": 44,
   "id": "789c42bf",
   "metadata": {},
   "outputs": [],
   "source": [
    "f = 98"
   ]
  },
  {
   "cell_type": "code",
   "execution_count": 45,
   "id": "4589edd1",
   "metadata": {},
   "outputs": [],
   "source": [
    "g = 2"
   ]
  },
  {
   "cell_type": "code",
   "execution_count": 46,
   "id": "fa4e6416",
   "metadata": {},
   "outputs": [
    {
     "data": {
      "text/plain": [
       "100"
      ]
     },
     "execution_count": 46,
     "metadata": {},
     "output_type": "execute_result"
    }
   ],
   "source": [
    "f + g"
   ]
  },
  {
   "cell_type": "markdown",
   "id": "3be95f47",
   "metadata": {},
   "source": [
    "# 08. code 2 floating- point variables and divide them by each other"
   ]
  },
  {
   "cell_type": "code",
   "execution_count": 47,
   "id": "555d6f43",
   "metadata": {},
   "outputs": [],
   "source": [
    "h = 10.6321"
   ]
  },
  {
   "cell_type": "code",
   "execution_count": 48,
   "id": "f5037a13",
   "metadata": {},
   "outputs": [],
   "source": [
    "i = 7.3988"
   ]
  },
  {
   "cell_type": "code",
   "execution_count": 49,
   "id": "e13b2825",
   "metadata": {},
   "outputs": [
    {
     "data": {
      "text/plain": [
       "1.4370032978320808"
      ]
     },
     "execution_count": 49,
     "metadata": {},
     "output_type": "execute_result"
    }
   ],
   "source": [
    "h / i"
   ]
  },
  {
   "cell_type": "markdown",
   "id": "05d1a76e",
   "metadata": {},
   "source": [
    "# 09. construct a short word made up of seperate strings"
   ]
  },
  {
   "cell_type": "code",
   "execution_count": 53,
   "id": "0630662c",
   "metadata": {},
   "outputs": [],
   "source": [
    "j = 'ana' "
   ]
  },
  {
   "cell_type": "code",
   "execution_count": 54,
   "id": "fc82613f",
   "metadata": {},
   "outputs": [],
   "source": [
    "k = 'lytics'"
   ]
  },
  {
   "cell_type": "code",
   "execution_count": 55,
   "id": "f7e466ff",
   "metadata": {},
   "outputs": [
    {
     "data": {
      "text/plain": [
       "'analytics'"
      ]
     },
     "execution_count": 55,
     "metadata": {},
     "output_type": "execute_result"
    }
   ],
   "source": [
    "j + k"
   ]
  },
  {
   "cell_type": "markdown",
   "id": "8128f5e8",
   "metadata": {},
   "source": [
    "# 10. Construct 2 short sentences made of seperate strings "
   ]
  },
  {
   "cell_type": "code",
   "execution_count": 57,
   "id": "9fafe748",
   "metadata": {},
   "outputs": [],
   "source": [
    "l = 'hello owen, '"
   ]
  },
  {
   "cell_type": "code",
   "execution_count": 58,
   "id": "3358fe3d",
   "metadata": {},
   "outputs": [],
   "source": [
    "m = 'how are you?'"
   ]
  },
  {
   "cell_type": "code",
   "execution_count": 59,
   "id": "714eeaa3",
   "metadata": {},
   "outputs": [
    {
     "data": {
      "text/plain": [
       "'hello owen, how are you?'"
      ]
     },
     "execution_count": 59,
     "metadata": {},
     "output_type": "execute_result"
    }
   ],
   "source": [
    "l + m"
   ]
  },
  {
   "cell_type": "code",
   "execution_count": null,
   "id": "2dcca25e",
   "metadata": {},
   "outputs": [],
   "source": []
  }
 ],
 "metadata": {
  "kernelspec": {
   "display_name": "Python 3 (ipykernel)",
   "language": "python",
   "name": "python3"
  },
  "language_info": {
   "codemirror_mode": {
    "name": "ipython",
    "version": 3
   },
   "file_extension": ".py",
   "mimetype": "text/x-python",
   "name": "python",
   "nbconvert_exporter": "python",
   "pygments_lexer": "ipython3",
   "version": "3.11.4"
  }
 },
 "nbformat": 4,
 "nbformat_minor": 5
}
